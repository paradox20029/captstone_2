{
 "cells": [
  {
   "cell_type": "code",
   "execution_count": 1,
   "id": "6878be3e",
   "metadata": {},
   "outputs": [
    {
     "ename": "ModuleNotFoundError",
     "evalue": "No module named 'pandas'",
     "output_type": "error",
     "traceback": [
      "\u001b[1;31m---------------------------------------------------------------------------\u001b[0m",
      "\u001b[1;31mModuleNotFoundError\u001b[0m                       Traceback (most recent call last)",
      "Cell \u001b[1;32mIn[1], line 1\u001b[0m\n\u001b[1;32m----> 1\u001b[0m \u001b[39mimport\u001b[39;00m \u001b[39mpandas\u001b[39;00m \u001b[39mas\u001b[39;00m \u001b[39mpd\u001b[39;00m\n\u001b[0;32m      3\u001b[0m \u001b[39m# Load the dataset into a Pandas DataFrame, specifying the separator as tab\u001b[39;00m\n\u001b[0;32m      4\u001b[0m data \u001b[39m=\u001b[39m pd\u001b[39m.\u001b[39mread_csv(\u001b[39m\"\u001b[39m\u001b[39mSample getTransactions API data.csv\u001b[39m\u001b[39m\"\u001b[39m)\n",
      "\u001b[1;31mModuleNotFoundError\u001b[0m: No module named 'pandas'"
     ]
    }
   ],
   "source": [
    "import pandas as pd\n",
    "\n",
    "# Load the dataset into a Pandas DataFrame, specifying the separator as tab\n",
    "data = pd.read_csv(\"Sample getTransactions API data.csv\")\n",
    "\n",
    "# Now you can proceed with the data analysis\n",
    "# Display the first few rows of the DataFrame\n",
    "print(\"First few rows of the dataset:\")\n",
    "print(data.head())\n",
    "\n",
    "# Basic statistics of numerical columns\n",
    "print(\"\\nSummary statistics:\")\n",
    "print(data.describe())\n",
    "\n",
    "# Check for missing values\n",
    "missing_values = data.isnull().sum()\n",
    "print(\"\\nMissing values:\")\n",
    "print(missing_values)\n",
    "\n",
    "# Data distribution by 'status'\n",
    "status_distribution = data['status'].value_counts()\n",
    "print(\"\\nStatus distribution:\")\n",
    "print(status_distribution)\n",
    "\n",
    "# Total amount by 'class'\n",
    "total_amount_by_class = data.groupby('class')['amount'].sum()\n",
    "print(\"\\nTotal amount by class:\")\n",
    "print(total_amount_by_class)\n",
    "\n",
    "# Average amount by 'institution'\n",
    "average_amount_by_institution = data.groupby('institution')['amount'].mean()\n",
    "print(\"\\nAverage amount by institution:\")\n",
    "print(average_amount_by_institution)\n",
    "\n",
    "# Plotting example: Histogram of 'amount'\n",
    "data['amount'].plot(kind='hist', bins=20, title='Histogram of Amount')\n",
    "plt.xlabel('Amount')\n",
    "plt.ylabel('Frequency')\n",
    "plt.show()\n",
    "\n",
    "\n",
    "\n",
    "\n"
   ]
  },
  {
   "cell_type": "code",
   "execution_count": null,
   "id": "a170458d",
   "metadata": {},
   "outputs": [],
   "source": []
  },
  {
   "cell_type": "code",
   "execution_count": null,
   "id": "28f27f76",
   "metadata": {},
   "outputs": [],
   "source": []
  }
 ],
 "metadata": {
  "kernelspec": {
   "display_name": "Python 3 (ipykernel)",
   "language": "python",
   "name": "python3"
  },
  "language_info": {
   "codemirror_mode": {
    "name": "ipython",
    "version": 3
   },
   "file_extension": ".py",
   "mimetype": "text/x-python",
   "name": "python",
   "nbconvert_exporter": "python",
   "pygments_lexer": "ipython3",
   "version": "3.10.1"
  }
 },
 "nbformat": 4,
 "nbformat_minor": 5
}
